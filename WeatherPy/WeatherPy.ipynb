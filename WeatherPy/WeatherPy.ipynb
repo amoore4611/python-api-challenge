{
 "cells": [
  {
   "cell_type": "markdown",
   "metadata": {},
   "source": [
    "# WeatherPy\n",
    "----\n",
    "\n",
    "#### Note\n",
    "* Instructions have been included for each segment. You do not have to follow them exactly, but they are included to help you think through the steps."
   ]
  },
  {
   "cell_type": "markdown",
   "metadata": {},
   "source": [
    "3 Observed Trends from the Data\n",
    "    1. The maximum temperature is highest when citites are close to the equator (latitude = 0).\n",
    "    2. Humidity does not exceed 100 often. Through mulitple testings, I have not found a humidity value to be higher than 100.\n",
    "    3. There are not many correlations that can be drawn from plotting latitude vs different weather aspects as seen in the scatter plots below. All have an R^2 value < 1."
   ]
  },
  {
   "cell_type": "code",
   "execution_count": 14,
   "metadata": {
    "scrolled": true
   },
   "outputs": [],
   "source": [
    "# Dependencies and Setup\n",
    "import matplotlib.pyplot as plt\n",
    "import pandas as pd\n",
    "import numpy as np\n",
    "import requests\n",
    "import time\n",
    "from scipy import stats\n",
    "from scipy.stats import linregress\n",
    "from pprint import pprint\n",
    "import json\n",
    "\n",
    "# Import API key\n",
    "from api_keys import weather_api_key\n",
    "\n",
    "# Incorporated citipy to determine city based on latitude and longitude\n",
    "from citipy import citipy\n",
    "\n",
    "# Range of latitudes and longitudes\n",
    "lat_range = (-90, 90)\n",
    "lng_range = (-180, 180)"
   ]
  },
  {
   "cell_type": "markdown",
   "metadata": {},
   "source": [
    "## Generate Cities List"
   ]
  },
  {
   "cell_type": "code",
   "execution_count": 4,
   "metadata": {},
   "outputs": [
    {
     "data": {
      "text/plain": [
       "606"
      ]
     },
     "execution_count": 4,
     "metadata": {},
     "output_type": "execute_result"
    }
   ],
   "source": [
    "# List for holding lat_lngs and cities\n",
    "lat_lngs = []\n",
    "cities = []\n",
    "\n",
    "# Create a set of random lat and lng combinations\n",
    "lats = np.random.uniform(lat_range[0], lat_range[1], size=1500)\n",
    "lngs = np.random.uniform(lng_range[0], lng_range[1], size=1500)\n",
    "lat_lngs = zip(lats, lngs)\n",
    "\n",
    "# Identify nearest city for each lat, lng combination\n",
    "for lat_lng in lat_lngs:\n",
    "    city = citipy.nearest_city(lat_lng[0], lat_lng[1]).city_name\n",
    "    \n",
    "    # If the city is unique, then add it to a our cities list\n",
    "    if city not in cities:\n",
    "        cities.append(city)\n",
    "\n",
    "# Print the city count to confirm sufficient count\n",
    "len(cities)"
   ]
  },
  {
   "cell_type": "markdown",
   "metadata": {},
   "source": [
    "### Perform API Calls\n",
    "* Perform a weather check on each city using a series of successive API calls.\n",
    "* Include a print log of each city as it'sbeing processed (with the city number and city name).\n"
   ]
  },
  {
   "cell_type": "code",
   "execution_count": 5,
   "metadata": {},
   "outputs": [],
   "source": [
    "# Save config information.\n",
    "url = \"http://api.openweathermap.org/data/2.5/weather?\"\n",
    "units = \"imperial\"\n",
    "query_url = f\"{url}appid={weather_api_key}&units={units}&q=\"\n"
   ]
  },
  {
   "cell_type": "code",
   "execution_count": 6,
   "metadata": {
    "scrolled": true
   },
   "outputs": [
    {
     "name": "stdout",
     "output_type": "stream",
     "text": [
      "Beginning Data Retrieval\n",
      "---------------------------\n",
      "City not found. Skipping...\n",
      "City not found. Skipping...\n",
      "City not found. Skipping...\n",
      "City not found. Skipping...\n",
      "City not found. Skipping...\n",
      "City not found. Skipping...\n",
      "City not found. Skipping...\n",
      "City not found. Skipping...\n",
      "City not found. Skipping...\n",
      "City not found. Skipping...\n",
      "City not found. Skipping...\n",
      "City not found. Skipping...\n",
      "City not found. Skipping...\n",
      "City not found. Skipping...\n",
      "City not found. Skipping...\n",
      "City not found. Skipping...\n",
      "City not found. Skipping...\n",
      "City not found. Skipping...\n",
      "City not found. Skipping...\n",
      "City not found. Skipping...\n",
      "City not found. Skipping...\n",
      "City not found. Skipping...\n",
      "City not found. Skipping...\n",
      "City not found. Skipping...\n",
      "City not found. Skipping...\n",
      "City not found. Skipping...\n",
      "City not found. Skipping...\n",
      "City not found. Skipping...\n",
      "City not found. Skipping...\n",
      "City not found. Skipping...\n",
      "City not found. Skipping...\n",
      "City not found. Skipping...\n",
      "City not found. Skipping...\n",
      "City not found. Skipping...\n",
      "City not found. Skipping...\n",
      "City not found. Skipping...\n",
      "City not found. Skipping...\n",
      "City not found. Skipping...\n",
      "City not found. Skipping...\n",
      "City not found. Skipping...\n",
      "City not found. Skipping...\n",
      "City not found. Skipping...\n",
      "City not found. Skipping...\n",
      "City not found. Skipping...\n",
      "City not found. Skipping...\n",
      "City not found. Skipping...\n",
      "City not found. Skipping...\n",
      "City not found. Skipping...\n"
     ]
    }
   ],
   "source": [
    "#set up lists to hold response info\n",
    "lat = []\n",
    "lng = []\n",
    "max_temp = []\n",
    "humidity = []\n",
    "cloudiness = []\n",
    "wind_speed = []\n",
    "country = []\n",
    "date = []\n",
    "found_cities = []\n",
    "\n",
    "# Build partial query URL\n",
    "print(\"Beginning Data Retrieval\")\n",
    "print(\"---------------------------\")\n",
    "for city in cities:\n",
    "    response = requests.get(query_url + city).json()\n",
    "    if response['cod'] != '404':\n",
    "        lat.append(response['coord']['lat'])\n",
    "        lng.append(response['coord']['lon'])\n",
    "        max_temp.append(response['main']['temp_max'])\n",
    "        humidity.append(response['main']['humidity'])\n",
    "        cloudiness.append(response['clouds']['all'])\n",
    "        wind_speed.append(response['wind']['speed'])\n",
    "        country.append(response['sys']['country'])\n",
    "        date.append(response['dt'])\n",
    "        found_cities.append(city)\n",
    "    else:\n",
    "        print(\"City not found. Skipping...\")\n",
    "        "
   ]
  },
  {
   "cell_type": "code",
   "execution_count": 8,
   "metadata": {},
   "outputs": [
    {
     "name": "stdout",
     "output_type": "stream",
     "text": [
      "558\n",
      "558\n",
      "558\n",
      "558\n",
      "558\n",
      "558\n",
      "558\n",
      "558\n",
      "558\n"
     ]
    }
   ],
   "source": [
    "#check to see if all arrays are the same length\n",
    "print(len(lat))\n",
    "print(len(lng))\n",
    "print(len(found_cities))\n",
    "print(len(max_temp))\n",
    "print(len(humidity))\n",
    "print(len(cloudiness))\n",
    "print(len(wind_speed))\n",
    "print(len(date))\n",
    "print(len(country))"
   ]
  },
  {
   "cell_type": "markdown",
   "metadata": {},
   "source": [
    "### Convert Raw Data to DataFrame\n",
    "* Export the city data into a .csv.\n",
    "* Display the DataFrame"
   ]
  },
  {
   "cell_type": "code",
   "execution_count": 24,
   "metadata": {},
   "outputs": [
    {
     "data": {
      "text/html": [
       "<div>\n",
       "<style scoped>\n",
       "    .dataframe tbody tr th:only-of-type {\n",
       "        vertical-align: middle;\n",
       "    }\n",
       "\n",
       "    .dataframe tbody tr th {\n",
       "        vertical-align: top;\n",
       "    }\n",
       "\n",
       "    .dataframe thead th {\n",
       "        text-align: right;\n",
       "    }\n",
       "</style>\n",
       "<table border=\"1\" class=\"dataframe\">\n",
       "  <thead>\n",
       "    <tr style=\"text-align: right;\">\n",
       "      <th></th>\n",
       "      <th>City</th>\n",
       "      <th>Lat</th>\n",
       "      <th>Lng</th>\n",
       "      <th>Max Temp</th>\n",
       "      <th>Humidity</th>\n",
       "      <th>Cloudiness</th>\n",
       "      <th>Wind Speed</th>\n",
       "      <th>Country</th>\n",
       "      <th>Date</th>\n",
       "    </tr>\n",
       "  </thead>\n",
       "  <tbody>\n",
       "    <tr>\n",
       "      <th>0</th>\n",
       "      <td>bredasdorp</td>\n",
       "      <td>-34.53</td>\n",
       "      <td>20.04</td>\n",
       "      <td>48.36</td>\n",
       "      <td>93</td>\n",
       "      <td>13</td>\n",
       "      <td>4.83</td>\n",
       "      <td>ZA</td>\n",
       "      <td>1658895539</td>\n",
       "    </tr>\n",
       "    <tr>\n",
       "      <th>1</th>\n",
       "      <td>pevek</td>\n",
       "      <td>69.70</td>\n",
       "      <td>170.31</td>\n",
       "      <td>35.91</td>\n",
       "      <td>83</td>\n",
       "      <td>100</td>\n",
       "      <td>11.14</td>\n",
       "      <td>RU</td>\n",
       "      <td>1658895540</td>\n",
       "    </tr>\n",
       "    <tr>\n",
       "      <th>2</th>\n",
       "      <td>port alfred</td>\n",
       "      <td>-33.59</td>\n",
       "      <td>26.89</td>\n",
       "      <td>59.18</td>\n",
       "      <td>75</td>\n",
       "      <td>47</td>\n",
       "      <td>7.00</td>\n",
       "      <td>ZA</td>\n",
       "      <td>1658895540</td>\n",
       "    </tr>\n",
       "    <tr>\n",
       "      <th>3</th>\n",
       "      <td>mataura</td>\n",
       "      <td>-46.19</td>\n",
       "      <td>168.86</td>\n",
       "      <td>47.48</td>\n",
       "      <td>95</td>\n",
       "      <td>100</td>\n",
       "      <td>4.41</td>\n",
       "      <td>NZ</td>\n",
       "      <td>1658895540</td>\n",
       "    </tr>\n",
       "    <tr>\n",
       "      <th>4</th>\n",
       "      <td>jamestown</td>\n",
       "      <td>42.10</td>\n",
       "      <td>-79.24</td>\n",
       "      <td>64.04</td>\n",
       "      <td>69</td>\n",
       "      <td>20</td>\n",
       "      <td>1.99</td>\n",
       "      <td>US</td>\n",
       "      <td>1658895413</td>\n",
       "    </tr>\n",
       "    <tr>\n",
       "      <th>...</th>\n",
       "      <td>...</td>\n",
       "      <td>...</td>\n",
       "      <td>...</td>\n",
       "      <td>...</td>\n",
       "      <td>...</td>\n",
       "      <td>...</td>\n",
       "      <td>...</td>\n",
       "      <td>...</td>\n",
       "      <td>...</td>\n",
       "    </tr>\n",
       "    <tr>\n",
       "      <th>553</th>\n",
       "      <td>xuddur</td>\n",
       "      <td>4.12</td>\n",
       "      <td>43.89</td>\n",
       "      <td>68.63</td>\n",
       "      <td>78</td>\n",
       "      <td>18</td>\n",
       "      <td>18.81</td>\n",
       "      <td>SO</td>\n",
       "      <td>1658895716</td>\n",
       "    </tr>\n",
       "    <tr>\n",
       "      <th>554</th>\n",
       "      <td>kieta</td>\n",
       "      <td>-6.22</td>\n",
       "      <td>155.63</td>\n",
       "      <td>83.71</td>\n",
       "      <td>71</td>\n",
       "      <td>37</td>\n",
       "      <td>4.52</td>\n",
       "      <td>PG</td>\n",
       "      <td>1658895717</td>\n",
       "    </tr>\n",
       "    <tr>\n",
       "      <th>555</th>\n",
       "      <td>mossendjo</td>\n",
       "      <td>-2.95</td>\n",
       "      <td>12.73</td>\n",
       "      <td>61.59</td>\n",
       "      <td>96</td>\n",
       "      <td>37</td>\n",
       "      <td>1.88</td>\n",
       "      <td>CG</td>\n",
       "      <td>1658895717</td>\n",
       "    </tr>\n",
       "    <tr>\n",
       "      <th>556</th>\n",
       "      <td>bogorodskoye</td>\n",
       "      <td>56.55</td>\n",
       "      <td>37.88</td>\n",
       "      <td>68.05</td>\n",
       "      <td>86</td>\n",
       "      <td>80</td>\n",
       "      <td>3.62</td>\n",
       "      <td>RU</td>\n",
       "      <td>1658895717</td>\n",
       "    </tr>\n",
       "    <tr>\n",
       "      <th>557</th>\n",
       "      <td>huarmey</td>\n",
       "      <td>-10.07</td>\n",
       "      <td>-78.15</td>\n",
       "      <td>62.38</td>\n",
       "      <td>87</td>\n",
       "      <td>63</td>\n",
       "      <td>10.40</td>\n",
       "      <td>PE</td>\n",
       "      <td>1658895718</td>\n",
       "    </tr>\n",
       "  </tbody>\n",
       "</table>\n",
       "<p>558 rows × 9 columns</p>\n",
       "</div>"
      ],
      "text/plain": [
       "             City    Lat     Lng  Max Temp  Humidity  Cloudiness  Wind Speed  \\\n",
       "0      bredasdorp -34.53   20.04     48.36        93          13        4.83   \n",
       "1           pevek  69.70  170.31     35.91        83         100       11.14   \n",
       "2     port alfred -33.59   26.89     59.18        75          47        7.00   \n",
       "3         mataura -46.19  168.86     47.48        95         100        4.41   \n",
       "4       jamestown  42.10  -79.24     64.04        69          20        1.99   \n",
       "..            ...    ...     ...       ...       ...         ...         ...   \n",
       "553        xuddur   4.12   43.89     68.63        78          18       18.81   \n",
       "554         kieta  -6.22  155.63     83.71        71          37        4.52   \n",
       "555     mossendjo  -2.95   12.73     61.59        96          37        1.88   \n",
       "556  bogorodskoye  56.55   37.88     68.05        86          80        3.62   \n",
       "557       huarmey -10.07  -78.15     62.38        87          63       10.40   \n",
       "\n",
       "    Country        Date  \n",
       "0        ZA  1658895539  \n",
       "1        RU  1658895540  \n",
       "2        ZA  1658895540  \n",
       "3        NZ  1658895540  \n",
       "4        US  1658895413  \n",
       "..      ...         ...  \n",
       "553      SO  1658895716  \n",
       "554      PG  1658895717  \n",
       "555      CG  1658895717  \n",
       "556      RU  1658895717  \n",
       "557      PE  1658895718  \n",
       "\n",
       "[558 rows x 9 columns]"
      ]
     },
     "execution_count": 24,
     "metadata": {},
     "output_type": "execute_result"
    }
   ],
   "source": [
    "#create a data frame from cities, lat, lng, max_temp, humidity, cloudiness, wind_speed, country, and date\n",
    "weather_dict = {\n",
    "    \"City\": found_cities,\n",
    "    \"Lat\": lat,\n",
    "    \"Lng\": lng,\n",
    "    \"Max Temp\": max_temp,\n",
    "    \"Humidity\": humidity,\n",
    "    \"Cloudiness\": cloudiness,\n",
    "    \"Wind Speed\": wind_speed,\n",
    "    \"Country\": country,\n",
    "    \"Date\": date\n",
    "}\n",
    "weather_data = pd.DataFrame(weather_dict)\n",
    "weather_data_clean = weather_data.round(2)\n",
    "weather_data_clean"
   ]
  },
  {
   "cell_type": "code",
   "execution_count": 70,
   "metadata": {},
   "outputs": [],
   "source": [
    "#Write DataFrame to CSV \n",
    "weather_data_clean.to_csv(\"cities.csv\")"
   ]
  },
  {
   "cell_type": "markdown",
   "metadata": {},
   "source": [
    "## Inspect the data and remove the cities where the humidity > 100%.\n",
    "----\n",
    "Skip this step if there are no cities that have humidity > 100%. "
   ]
  },
  {
   "cell_type": "code",
   "execution_count": 25,
   "metadata": {},
   "outputs": [],
   "source": [
    "weather_data_cleaned = weather_data_clean[weather_data_clean['Humidity'] <= 100]"
   ]
  },
  {
   "cell_type": "code",
   "execution_count": 26,
   "metadata": {},
   "outputs": [
    {
     "data": {
      "text/html": [
       "<div>\n",
       "<style scoped>\n",
       "    .dataframe tbody tr th:only-of-type {\n",
       "        vertical-align: middle;\n",
       "    }\n",
       "\n",
       "    .dataframe tbody tr th {\n",
       "        vertical-align: top;\n",
       "    }\n",
       "\n",
       "    .dataframe thead th {\n",
       "        text-align: right;\n",
       "    }\n",
       "</style>\n",
       "<table border=\"1\" class=\"dataframe\">\n",
       "  <thead>\n",
       "    <tr style=\"text-align: right;\">\n",
       "      <th></th>\n",
       "      <th>Lat</th>\n",
       "      <th>Lng</th>\n",
       "      <th>Max Temp</th>\n",
       "      <th>Humidity</th>\n",
       "      <th>Cloudiness</th>\n",
       "      <th>Wind Speed</th>\n",
       "      <th>Date</th>\n",
       "    </tr>\n",
       "  </thead>\n",
       "  <tbody>\n",
       "    <tr>\n",
       "      <th>count</th>\n",
       "      <td>558.00</td>\n",
       "      <td>558.00</td>\n",
       "      <td>558.00</td>\n",
       "      <td>558.00</td>\n",
       "      <td>558.00</td>\n",
       "      <td>558.00</td>\n",
       "      <td>5.580000e+02</td>\n",
       "    </tr>\n",
       "    <tr>\n",
       "      <th>mean</th>\n",
       "      <td>18.73</td>\n",
       "      <td>21.93</td>\n",
       "      <td>69.50</td>\n",
       "      <td>71.50</td>\n",
       "      <td>51.46</td>\n",
       "      <td>7.64</td>\n",
       "      <td>1.658896e+09</td>\n",
       "    </tr>\n",
       "    <tr>\n",
       "      <th>std</th>\n",
       "      <td>33.45</td>\n",
       "      <td>90.45</td>\n",
       "      <td>13.12</td>\n",
       "      <td>20.41</td>\n",
       "      <td>38.15</td>\n",
       "      <td>5.38</td>\n",
       "      <td>9.218000e+01</td>\n",
       "    </tr>\n",
       "    <tr>\n",
       "      <th>min</th>\n",
       "      <td>-54.80</td>\n",
       "      <td>-175.20</td>\n",
       "      <td>30.31</td>\n",
       "      <td>1.00</td>\n",
       "      <td>0.00</td>\n",
       "      <td>0.00</td>\n",
       "      <td>1.658895e+09</td>\n",
       "    </tr>\n",
       "    <tr>\n",
       "      <th>25%</th>\n",
       "      <td>-9.84</td>\n",
       "      <td>-57.49</td>\n",
       "      <td>59.97</td>\n",
       "      <td>59.00</td>\n",
       "      <td>14.00</td>\n",
       "      <td>3.44</td>\n",
       "      <td>1.658896e+09</td>\n",
       "    </tr>\n",
       "    <tr>\n",
       "      <th>50%</th>\n",
       "      <td>21.26</td>\n",
       "      <td>24.44</td>\n",
       "      <td>70.23</td>\n",
       "      <td>76.00</td>\n",
       "      <td>52.00</td>\n",
       "      <td>6.32</td>\n",
       "      <td>1.658896e+09</td>\n",
       "    </tr>\n",
       "    <tr>\n",
       "      <th>75%</th>\n",
       "      <td>49.30</td>\n",
       "      <td>105.04</td>\n",
       "      <td>79.74</td>\n",
       "      <td>88.00</td>\n",
       "      <td>92.75</td>\n",
       "      <td>11.18</td>\n",
       "      <td>1.658896e+09</td>\n",
       "    </tr>\n",
       "    <tr>\n",
       "      <th>max</th>\n",
       "      <td>78.22</td>\n",
       "      <td>179.32</td>\n",
       "      <td>99.09</td>\n",
       "      <td>100.00</td>\n",
       "      <td>100.00</td>\n",
       "      <td>27.63</td>\n",
       "      <td>1.658896e+09</td>\n",
       "    </tr>\n",
       "  </tbody>\n",
       "</table>\n",
       "</div>"
      ],
      "text/plain": [
       "          Lat     Lng  Max Temp  Humidity  Cloudiness  Wind Speed  \\\n",
       "count  558.00  558.00    558.00    558.00      558.00      558.00   \n",
       "mean    18.73   21.93     69.50     71.50       51.46        7.64   \n",
       "std     33.45   90.45     13.12     20.41       38.15        5.38   \n",
       "min    -54.80 -175.20     30.31      1.00        0.00        0.00   \n",
       "25%     -9.84  -57.49     59.97     59.00       14.00        3.44   \n",
       "50%     21.26   24.44     70.23     76.00       52.00        6.32   \n",
       "75%     49.30  105.04     79.74     88.00       92.75       11.18   \n",
       "max     78.22  179.32     99.09    100.00      100.00       27.63   \n",
       "\n",
       "               Date  \n",
       "count  5.580000e+02  \n",
       "mean   1.658896e+09  \n",
       "std    9.218000e+01  \n",
       "min    1.658895e+09  \n",
       "25%    1.658896e+09  \n",
       "50%    1.658896e+09  \n",
       "75%    1.658896e+09  \n",
       "max    1.658896e+09  "
      ]
     },
     "execution_count": 26,
     "metadata": {},
     "output_type": "execute_result"
    }
   ],
   "source": [
    "#use .describe in order to get the description of numerical data e.g. count, mean, std dev, percentiles (quartiles)\n",
    "weather_data_cleaned.describe().round(2)"
   ]
  },
  {
   "cell_type": "markdown",
   "metadata": {},
   "source": [
    "## Plotting the Data\n",
    "* Use proper labeling of the plots using plot titles (including date of analysis) and axes labels.\n",
    "* Save the plotted figures as .pngs."
   ]
  },
  {
   "cell_type": "markdown",
   "metadata": {},
   "source": [
    "## Latitude vs. Temperature Plot"
   ]
  },
  {
   "cell_type": "code",
   "execution_count": 13,
   "metadata": {
    "scrolled": true
   },
   "outputs": [
    {
     "data": {
      "image/png": "[encoded data removed]",
      "text/plain": [
       "<Figure size 432x288 with 1 Axes>"
      ]
     },
     "metadata": {
      "needs_background": "light"
     },
     "output_type": "display_data"
    }
   ],
   "source": [
    "#create a scatter plot for temperature vs latitude\n",
    "x_values = weather_data_cleaned['Lat']\n",
    "y_values = weather_data_cleaned['Max Temp']\n",
    "plt.scatter(x_values,y_values)\n",
    "plt.xlabel('Latitude')\n",
    "plt.ylabel('Max Temperature (F)')\n",
    "plt.title(f\"City Latitude vs. Max Temperature\")\n",
    "plt.show()\n",
    "\n",
    "# The following plot is showing the change in max temperature based on the latitude of the city. \n",
    "#Based on the data, it can be seen that the max temperature is higher when the city is closer to the equator (0 latitude)"
   ]
  },
  {
   "cell_type": "markdown",
   "metadata": {},
   "source": [
    "## Latitude vs. Humidity Plot"
   ]
  },
  {
   "cell_type": "code",
   "execution_count": 33,
   "metadata": {},
   "outputs": [
    {
     "data": {
      "image/png": "[encoded data removed]",
      "text/plain": [
       "<Figure size 432x288 with 1 Axes>"
      ]
     },
     "metadata": {
      "needs_background": "light"
     },
     "output_type": "display_data"
    }
   ],
   "source": [
    "#create a scatter plot for latitude vs humidity\n",
    "x_values = weather_data_cleaned['Lat']\n",
    "y_values = weather_data_cleaned['Humidity']\n",
    "plt.scatter(x_values,y_values)\n",
    "plt.xlabel('Latitude')\n",
    "plt.ylabel('Humidity (%)')\n",
    "plt.title('City Latitude vs. Humidity')\n",
    "plt.show()\n",
    "\n",
    "# The following plot is showing the change in humidity based on the latitude of the city. \n",
    "#Based on the data, no conclusion can be made on a correlation between latitude vs humidity."
   ]
  },
  {
   "cell_type": "markdown",
   "metadata": {},
   "source": [
    "## Latitude vs. Cloudiness Plot"
   ]
  },
  {
   "cell_type": "code",
   "execution_count": 37,
   "metadata": {},
   "outputs": [
    {
     "data": {
      "image/png": "[encoded data removed]",
      "text/plain": [
       "<Figure size 432x288 with 1 Axes>"
      ]
     },
     "metadata": {
      "needs_background": "light"
     },
     "output_type": "display_data"
    }
   ],
   "source": [
    "#create a scatter plot for latitude vs cloudiness\n",
    "x_values = weather_data_cleaned['Lat']\n",
    "y_values = weather_data_cleaned['Cloudiness']\n",
    "plt.scatter(x_values,y_values)\n",
    "plt.xlabel('Latitude')\n",
    "plt.ylabel('Cloudiness (%)')\n",
    "plt.title('City Latitude vs. Cloudiness')\n",
    "plt.show()\n",
    "\n",
    "# The following plot is showing the change in cloudiness based on the latitude of the city. \n",
    "#Based on the data, no conclusion can be made on a correlation between latitude vs cloudiness."
   ]
  },
  {
   "cell_type": "markdown",
   "metadata": {},
   "source": [
    "## Latitude vs. Wind Speed Plot"
   ]
  },
  {
   "cell_type": "code",
   "execution_count": 38,
   "metadata": {},
   "outputs": [
    {
     "data": {
      "image/png": "[encoded data removed]",
      "text/plain": [
       "<Figure size 432x288 with 1 Axes>"
      ]
     },
     "metadata": {
      "needs_background": "light"
     },
     "output_type": "display_data"
    }
   ],
   "source": [
    "#create a scatter plot for latitude vs cloudiness\n",
    "x_values = weather_data_cleaned['Lat']\n",
    "y_values = weather_data_cleaned['Wind Speed']\n",
    "plt.scatter(x_values,y_values)\n",
    "plt.xlabel('Latitude')\n",
    "plt.ylabel('Wind Speed (mph)')\n",
    "plt.title('City Latitude vs. Wind Speed')\n",
    "plt.show()\n",
    "\n",
    "# The following plot is showing the change in wind speed based on the latitude of the city. \n",
    "#Based on the data, no conclusion can be made on a correlation between latitude vs wind speed. \n",
    "#However, there does appear to be lower wind speeds at all latitudes compared to high higher wind speeds (>15 mph)."
   ]
  },
  {
   "cell_type": "markdown",
   "metadata": {},
   "source": [
    "## Linear Regression"
   ]
  },
  {
   "cell_type": "code",
   "execution_count": 42,
   "metadata": {},
   "outputs": [],
   "source": [
    "north_lat = weather_data_cleaned['Lat'] >= 0\n",
    "clean_north_lat = weather_data_cleaned[north_lat]\n",
    "\n",
    "south_lat = weather_data_cleaned['Lat'] < 0\n",
    "clean_south_lat = weather_data_cleaned[south_lat]"
   ]
  },
  {
   "cell_type": "markdown",
   "metadata": {},
   "source": [
    "####  Northern Hemisphere - Max Temp vs. Latitude Linear Regression"
   ]
  },
  {
   "cell_type": "code",
   "execution_count": 61,
   "metadata": {},
   "outputs": [
    {
     "name": "stdout",
     "output_type": "stream",
     "text": [
      "y= -0.49x +92.42\n",
      "R Value: -0.686\n",
      "R^2 Value: 0.4706\n"
     ]
    },
    {
     "data": {
      "text/plain": [
       "<function matplotlib.pyplot.show(close=None, block=None)>"
      ]
     },
     "execution_count": 61,
     "metadata": {},
     "output_type": "execute_result"
    },
    {
     "data": {
      "image/png": "[encoded data removed]",
      "text/plain": [
       "<Figure size 432x288 with 1 Axes>"
      ]
     },
     "metadata": {
      "needs_background": "light"
     },
     "output_type": "display_data"
    }
   ],
   "source": [
    "#set x and y values\n",
    "x_values = clean_north_lat['Lat']\n",
    "y_values = clean_north_lat['Max Temp']\n",
    "\n",
    "#perform a linear regression on temperature vs. latitude\n",
    "(slope, intercept, rvalue, pvalue, stderr) = stats.linregress(x_values, y_values)\n",
    "\n",
    "#get regression values\n",
    "regress_values = x_values*slope + intercept\n",
    "\n",
    "#create line equation \n",
    "line_eq = \"y= \" + str(slope.round(2)) + \"x +\" + str(intercept.round(2))\n",
    "print(line_eq)\n",
    "\n",
    "#create plot\n",
    "plt.scatter(x_values,y_values)\n",
    "plt.plot(x_values, regress_values, \"r-\")\n",
    "plt.xlabel('Latitude')\n",
    "plt.ylabel('Max Temperature')\n",
    "plt.annotate(line_eq,(20,15), fontsize =15,color=\"red\")\n",
    "\n",
    "print(f\"R Value: {rvalue.round(4)}\")\n",
    "print(f\"R^2 Value: {(rvalue**2).round(4)}\")\n",
    "\n",
    "plt.show\n",
    "\n",
    "# The following plot is showing the change in max temperature based on the latitude of the city. \n",
    "#Based on the data, it can be seen that the max temperature is higher when the city is closer to 20 latitude. \n",
    "#However, the R^2 value is not close to 1 indicating there is not a correlation between temperature and norther latitude"
   ]
  },
  {
   "cell_type": "markdown",
   "metadata": {},
   "source": [
    "####  Southern Hemisphere - Max Temp vs. Latitude Linear Regression"
   ]
  },
  {
   "cell_type": "code",
   "execution_count": 62,
   "metadata": {},
   "outputs": [
    {
     "name": "stdout",
     "output_type": "stream",
     "text": [
      "y= 0.8x +83.94\n",
      "R Value: 0.7245\n",
      "R^2 Value: 0.5248\n"
     ]
    },
    {
     "data": {
      "text/plain": [
       "<function matplotlib.pyplot.show(close=None, block=None)>"
      ]
     },
     "execution_count": 62,
     "metadata": {},
     "output_type": "execute_result"
    },
    {
     "data": {
      "image/png": "[encoded data removed]",
      "text/plain": [
       "<Figure size 432x288 with 1 Axes>"
      ]
     },
     "metadata": {
      "needs_background": "light"
     },
     "output_type": "display_data"
    }
   ],
   "source": [
    "#set x and y values\n",
    "x_values = clean_south_lat['Lat']\n",
    "y_values = clean_south_lat['Max Temp']\n",
    "\n",
    "#perform a linear regression on temperature vs. latitude\n",
    "(slope, intercept, rvalue, pvalue, stderr) = stats.linregress(x_values, y_values)\n",
    "\n",
    "#get regression values\n",
    "regress_values = x_values*slope + intercept\n",
    "\n",
    "#create line equation \n",
    "line_eq = \"y= \" + str(slope.round(2)) + \"x +\" + str(intercept.round(2))\n",
    "print(line_eq)\n",
    "\n",
    "#create plot\n",
    "plt.scatter(x_values,y_values)\n",
    "plt.plot(x_values, regress_values, \"r-\")\n",
    "plt.xlabel('Latitude')\n",
    "plt.ylabel('Max Temperature')\n",
    "plt.annotate(line_eq,(20,15), fontsize =15,color=\"red\")\n",
    "\n",
    "print(f\"R Value: {rvalue.round(4)}\")\n",
    "print(f\"R^2 Value: {(rvalue**2).round(4)}\")\n",
    "\n",
    "plt.show\n",
    "\n",
    "# The following plot is showing the change in max temperature based on the latitude of the city. \n",
    "#Based on the data, it can be seen that the max temperature is higher when the city is closer to the equator. \n",
    "#However, the R^2 value is not close to 1 indicating there is not a correlation between temperature and latitude"
   ]
  },
  {
   "cell_type": "markdown",
   "metadata": {},
   "source": [
    "####  Northern Hemisphere - Humidity (%) vs. Latitude Linear Regression"
   ]
  },
  {
   "cell_type": "code",
   "execution_count": 63,
   "metadata": {},
   "outputs": [
    {
     "name": "stdout",
     "output_type": "stream",
     "text": [
      "y= 0.08x +66.0\n",
      "R Value: 0.0759\n",
      "R^2 Value: 0.0058\n"
     ]
    },
    {
     "data": {
      "text/plain": [
       "<function matplotlib.pyplot.show(close=None, block=None)>"
      ]
     },
     "execution_count": 63,
     "metadata": {},
     "output_type": "execute_result"
    },
    {
     "data": {
      "image/png": "[encoded data removed]",
      "text/plain": [
       "<Figure size 432x288 with 1 Axes>"
      ]
     },
     "metadata": {
      "needs_background": "light"
     },
     "output_type": "display_data"
    }
   ],
   "source": [
    "#set x and y values\n",
    "x_values = clean_north_lat['Lat']\n",
    "y_values = clean_north_lat['Humidity']\n",
    "\n",
    "#perform a linear regression on temperature vs. latitude\n",
    "(slope, intercept, rvalue, pvalue, stderr) = stats.linregress(x_values, y_values)\n",
    "\n",
    "#get regression values\n",
    "regress_values = x_values*slope + intercept\n",
    "\n",
    "#create line equation \n",
    "line_eq = \"y= \" + str(slope.round(2)) + \"x +\" + str(intercept.round(2))\n",
    "print(line_eq)\n",
    "\n",
    "#create plot\n",
    "plt.scatter(x_values,y_values)\n",
    "plt.plot(x_values, regress_values, \"r-\")\n",
    "plt.xlabel('Latitude')\n",
    "plt.ylabel('Humidity')\n",
    "plt.annotate(line_eq,(20,15), fontsize =15,color=\"red\")\n",
    "\n",
    "print(f\"R Value: {rvalue.round(4)}\")\n",
    "print(f\"R^2 Value: {(rvalue**2).round(4)}\")\n",
    "\n",
    "plt.show\n",
    "\n",
    "# The following plot is showing the change in humidty based on the latitude of the city. \n",
    "#Based on the data, it can be seen that the humidity is overall greater than 40% at all latitudes, but data is scattered. \n",
    "#However, the R^2 value is not close to 1 indicating there is not a correlation between humidity and latitude"
   ]
  },
  {
   "cell_type": "markdown",
   "metadata": {},
   "source": [
    "####  Southern Hemisphere - Humidity (%) vs. Latitude Linear Regression"
   ]
  },
  {
   "cell_type": "code",
   "execution_count": 64,
   "metadata": {},
   "outputs": [
    {
     "name": "stdout",
     "output_type": "stream",
     "text": [
      "y= -0.31x +63.83\n",
      "R Value: -0.1847\n",
      "R^2 Value: 0.0341\n"
     ]
    },
    {
     "data": {
      "text/plain": [
       "<function matplotlib.pyplot.show(close=None, block=None)>"
      ]
     },
     "execution_count": 64,
     "metadata": {},
     "output_type": "execute_result"
    },
    {
     "data": {
      "image/png": "[encoded data removed]",
      "text/plain": [
       "<Figure size 432x288 with 1 Axes>"
      ]
     },
     "metadata": {
      "needs_background": "light"
     },
     "output_type": "display_data"
    }
   ],
   "source": [
    "#set x and y values\n",
    "x_values = clean_south_lat['Lat']\n",
    "y_values = clean_south_lat['Humidity']\n",
    "\n",
    "#perform a linear regression on temperature vs. latitude\n",
    "(slope, intercept, rvalue, pvalue, stderr) = stats.linregress(x_values, y_values)\n",
    "\n",
    "#get regression values\n",
    "regress_values = x_values*slope + intercept\n",
    "\n",
    "#create line equation \n",
    "line_eq = \"y= \" + str(slope.round(2)) + \"x +\" + str(intercept.round(2))\n",
    "print(line_eq)\n",
    "\n",
    "#create plot\n",
    "plt.scatter(x_values,y_values)\n",
    "plt.plot(x_values, regress_values, \"r-\")\n",
    "plt.xlabel('Latitude')\n",
    "plt.ylabel('Humidity')\n",
    "plt.annotate(line_eq,(20,15), fontsize =15,color=\"red\")\n",
    "\n",
    "print(f\"R Value: {rvalue.round(4)}\")\n",
    "print(f\"R^2 Value: {(rvalue**2).round(4)}\")\n",
    "\n",
    "plt.show\n",
    "\n",
    "# The following plot is showing the change in humidty based on the latitude of the city. \n",
    "#Based on the data, it can be seen that the humidity is overall greater than 40% at all latitudes, but data is scattered. \n",
    "#Humidity readings are scarce below -40 latitude.\n",
    "#However, the R^2 value is not close to 1 indicating there is not a correlation between humidity and latitude."
   ]
  },
  {
   "cell_type": "markdown",
   "metadata": {},
   "source": [
    "####  Northern Hemisphere - Cloudiness (%) vs. Latitude Linear Regression"
   ]
  },
  {
   "cell_type": "code",
   "execution_count": 65,
   "metadata": {},
   "outputs": [
    {
     "name": "stdout",
     "output_type": "stream",
     "text": [
      "y= 0.07x +53.77\n",
      "R Value: 0.0381\n",
      "R^2 Value: 0.0014\n"
     ]
    },
    {
     "data": {
      "text/plain": [
       "<function matplotlib.pyplot.show(close=None, block=None)>"
      ]
     },
     "execution_count": 65,
     "metadata": {},
     "output_type": "execute_result"
    },
    {
     "data": {
      "image/png": "[encoded data removed]",
      "text/plain": [
       "<Figure size 432x288 with 1 Axes>"
      ]
     },
     "metadata": {
      "needs_background": "light"
     },
     "output_type": "display_data"
    }
   ],
   "source": [
    "#set x and y values\n",
    "x_values = clean_north_lat['Lat']\n",
    "y_values = clean_north_lat['Cloudiness']\n",
    "\n",
    "#perform a linear regression on temperature vs. latitude\n",
    "(slope, intercept, rvalue, pvalue, stderr) = stats.linregress(x_values, y_values)\n",
    "\n",
    "#get regression values\n",
    "regress_values = x_values*slope + intercept\n",
    "\n",
    "#create line equation \n",
    "line_eq = \"y= \" + str(slope.round(2)) + \"x +\" + str(intercept.round(2))\n",
    "print(line_eq)\n",
    "\n",
    "#create plot\n",
    "plt.scatter(x_values,y_values)\n",
    "plt.plot(x_values, regress_values, \"r-\")\n",
    "plt.xlabel('Latitude')\n",
    "plt.ylabel('Cloudiness')\n",
    "plt.annotate(line_eq,(20,15), fontsize =15,color=\"red\")\n",
    "\n",
    "print(f\"R Value: {rvalue.round(4)}\")\n",
    "print(f\"R^2 Value: {(rvalue**2).round(4)}\")\n",
    "\n",
    "plt.show\n",
    "\n",
    "# The following plot is showing the change in cloudiness based on the latitude of the city. \n",
    "#Based on the plot, there isn't a clear indicator of latitude affecting cloudiness. \n",
    "#The R^2 value is not close to 1 indicating there is not a correlation between cloudiness and latitude"
   ]
  },
  {
   "cell_type": "markdown",
   "metadata": {},
   "source": [
    "####  Southern Hemisphere - Cloudiness (%) vs. Latitude Linear Regression"
   ]
  },
  {
   "cell_type": "code",
   "execution_count": 66,
   "metadata": {},
   "outputs": [
    {
     "name": "stdout",
     "output_type": "stream",
     "text": [
      "y= 0.27x +54.44\n",
      "R Value: 0.0937\n",
      "R^2 Value: 0.0088\n"
     ]
    },
    {
     "data": {
      "text/plain": [
       "<function matplotlib.pyplot.show(close=None, block=None)>"
      ]
     },
     "execution_count": 66,
     "metadata": {},
     "output_type": "execute_result"
    },
    {
     "data": {
      "image/png": "[encoded data removed]",
      "text/plain": [
       "<Figure size 432x288 with 1 Axes>"
      ]
     },
     "metadata": {
      "needs_background": "light"
     },
     "output_type": "display_data"
    }
   ],
   "source": [
    "#set x and y values\n",
    "x_values = clean_south_lat['Lat']\n",
    "y_values = clean_south_lat['Cloudiness']\n",
    "\n",
    "#perform a linear regression on temperature vs. latitude\n",
    "(slope, intercept, rvalue, pvalue, stderr) = stats.linregress(x_values, y_values)\n",
    "\n",
    "#get regression values\n",
    "regress_values = x_values*slope + intercept\n",
    "\n",
    "#create line equation \n",
    "line_eq = \"y= \" + str(slope.round(2)) + \"x +\" + str(intercept.round(2))\n",
    "print(line_eq)\n",
    "\n",
    "#create plot\n",
    "plt.scatter(x_values,y_values)\n",
    "plt.plot(x_values, regress_values, \"r-\")\n",
    "plt.xlabel('Latitude')\n",
    "plt.ylabel('Cloudiness')\n",
    "plt.annotate(line_eq,(20,15), fontsize =15,color=\"red\")\n",
    "\n",
    "print(f\"R Value: {rvalue.round(4)}\")\n",
    "print(f\"R^2 Value: {(rvalue**2).round(4)}\")\n",
    "\n",
    "plt.show\n",
    "\n",
    "# The following plot is showing the change in cloudiness based on the latitude of the city. \n",
    "#Based on the plot, there isn't a clear indicator of latitude affecting cloudiness. \n",
    "#However, cloudiness data is scarce below -40 latitude.\n",
    "#The R^2 value is not close to 1 indicating there is not a correlation between cloudiness and latitude"
   ]
  },
  {
   "cell_type": "markdown",
   "metadata": {},
   "source": [
    "####  Northern Hemisphere - Wind Speed (mph) vs. Latitude Linear Regression"
   ]
  },
  {
   "cell_type": "code",
   "execution_count": 67,
   "metadata": {},
   "outputs": [
    {
     "name": "stdout",
     "output_type": "stream",
     "text": [
      "y= 0.01x +7.48\n",
      "R Value: 0.0356\n",
      "R^2 Value: 0.0013\n"
     ]
    },
    {
     "data": {
      "text/plain": [
       "<function matplotlib.pyplot.show(close=None, block=None)>"
      ]
     },
     "execution_count": 67,
     "metadata": {},
     "output_type": "execute_result"
    },
    {
     "data": {
      "image/png": "[encoded data removed]",
      "text/plain": [
       "<Figure size 432x288 with 1 Axes>"
      ]
     },
     "metadata": {
      "needs_background": "light"
     },
     "output_type": "display_data"
    }
   ],
   "source": [
    "#set x and y values\n",
    "x_values = clean_north_lat['Lat']\n",
    "y_values = clean_north_lat['Wind Speed']\n",
    "\n",
    "#perform a linear regression on temperature vs. latitude\n",
    "(slope, intercept, rvalue, pvalue, stderr) = stats.linregress(x_values, y_values)\n",
    "\n",
    "#get regression values\n",
    "regress_values = x_values*slope + intercept\n",
    "\n",
    "#create line equation \n",
    "line_eq = \"y= \" + str(slope.round(2)) + \"x +\" + str(intercept.round(2))\n",
    "print(line_eq)\n",
    "\n",
    "#create plot\n",
    "plt.scatter(x_values,y_values)\n",
    "plt.plot(x_values, regress_values, \"r-\")\n",
    "plt.xlabel('Latitude')\n",
    "plt.ylabel('Wind Speed')\n",
    "plt.annotate(line_eq,(20,15), fontsize =15,color=\"red\")\n",
    "\n",
    "print(f\"R Value: {rvalue.round(4)}\")\n",
    "print(f\"R^2 Value: {(rvalue**2).round(4)}\")\n",
    "\n",
    "plt.show\n",
    "\n",
    "# The following plot is showing the change in wind speed based on the latitude of the city. \n",
    "#Based on the plot, high wind speeds (>15 mph) are not common at all latitudes.\n",
    "#The R^2 value is not close to 1 indicating there is not a linear correlation between wind speed and latitude"
   ]
  },
  {
   "cell_type": "markdown",
   "metadata": {},
   "source": [
    "####  Southern Hemisphere - Wind Speed (mph) vs. Latitude Linear Regression"
   ]
  },
  {
   "cell_type": "code",
   "execution_count": 68,
   "metadata": {},
   "outputs": [
    {
     "name": "stdout",
     "output_type": "stream",
     "text": [
      "y= -0.04x +7.32\n",
      "R Value: -0.1077\n",
      "R^2 Value: 0.0116\n"
     ]
    },
    {
     "data": {
      "text/plain": [
       "<function matplotlib.pyplot.show(close=None, block=None)>"
      ]
     },
     "execution_count": 68,
     "metadata": {},
     "output_type": "execute_result"
    },
    {
     "data": {
      "image/png": "[encoded data removed]",
      "text/plain": [
       "<Figure size 432x288 with 1 Axes>"
      ]
     },
     "metadata": {
      "needs_background": "light"
     },
     "output_type": "display_data"
    }
   ],
   "source": [
    "#set x and y values\n",
    "x_values = clean_south_lat['Lat']\n",
    "y_values = clean_south_lat['Wind Speed']\n",
    "\n",
    "#perform a linear regression on temperature vs. latitude\n",
    "(slope, intercept, rvalue, pvalue, stderr) = stats.linregress(x_values, y_values)\n",
    "\n",
    "#get regression values\n",
    "regress_values = x_values*slope + intercept\n",
    "\n",
    "#create line equation \n",
    "line_eq = \"y= \" + str(slope.round(2)) + \"x +\" + str(intercept.round(2))\n",
    "print(line_eq)\n",
    "\n",
    "#create plot\n",
    "plt.scatter(x_values,y_values)\n",
    "plt.plot(x_values, regress_values, \"r-\")\n",
    "plt.xlabel('Latitude')\n",
    "plt.ylabel('Wind Speed')\n",
    "plt.annotate(line_eq,(20,15), fontsize =15,color=\"red\")\n",
    "\n",
    "print(f\"R Value: {rvalue.round(4)}\")\n",
    "print(f\"R^2 Value: {(rvalue**2).round(4)}\")\n",
    "\n",
    "plt.show\n",
    "\n",
    "# The following plot is showing the change in wind speed based on the latitude of the city. \n",
    "#Based on the plot, high wind speeds (>15 mph) are not common at all latitudes.\n",
    "#The R^2 value is not close to 1 indicating there is not a linear correlation between wind speed and latitude"
   ]
  },
  {
   "cell_type": "code",
   "execution_count": null,
   "metadata": {},
   "outputs": [],
   "source": []
  }
 ],
 "metadata": {
  "anaconda-cloud": {},
  "kernel_info": {
   "name": "python3"
  },
  "kernelspec": {
   "display_name": "Python 3 (ipykernel)",
   "language": "python",
   "name": "python3"
  },
  "language_info": {
   "codemirror_mode": {
    "name": "ipython",
    "version": 3
   },
   "file_extension": ".py",
   "mimetype": "text/x-python",
   "name": "python",
   "nbconvert_exporter": "python",
   "pygments_lexer": "ipython3",
   "version": "3.9.12"
  },
  "latex_envs": {
   "LaTeX_envs_menu_present": true,
   "autoclose": false,
   "autocomplete": true,
   "bibliofile": "biblio.bib",
   "cite_by": "apalike",
   "current_citInitial": 1,
   "eqLabelWithNumbers": true,
   "eqNumInitial": 1,
   "hotkeys": {
    "equation": "Ctrl-E",
    "itemize": "Ctrl-I"
   },
   "labels_anchors": false,
   "latex_user_defs": false,
   "report_style_numbering": false,
   "user_envs_cfg": false
  },
  "nteract": {
   "version": "0.12.3"
  }
 },
 "nbformat": 4,
 "nbformat_minor": 2
}
